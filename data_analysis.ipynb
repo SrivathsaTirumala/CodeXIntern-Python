{
 "cells": [
  {
   "cell_type": "markdown",
   "metadata": {},
   "source": [
    "## Data Analysis with Pandas"
   ]
  },
  {
   "cell_type": "markdown",
   "metadata": {},
   "source": [
    "### Importing libraries"
   ]
  },
  {
   "cell_type": "code",
   "execution_count": 15,
   "metadata": {},
   "outputs": [],
   "source": [
    "import pandas as pd\n",
    "import matplotlib.pyplot as plt"
   ]
  },
  {
   "cell_type": "markdown",
   "metadata": {},
   "source": [
    "### Loading the dataset"
   ]
  },
  {
   "cell_type": "code",
   "execution_count": 5,
   "metadata": {},
   "outputs": [],
   "source": [
    "df = pd.read_csv('data.csv')"
   ]
  },
  {
   "cell_type": "markdown",
   "metadata": {},
   "source": [
    "### Display the first few rows of the data "
   ]
  },
  {
   "cell_type": "code",
   "execution_count": 6,
   "metadata": {},
   "outputs": [
    {
     "name": "stdout",
     "output_type": "stream",
     "text": [
      "      Name  Age  Salary   Department  Gender\n",
      "0  Henry_1   34   75300        Sales    Male\n",
      "1  Grace_2   29   74495  Engineering  Female\n",
      "2  Diana_3   28   44957    Marketing  Female\n",
      "3    Bob_4   28   53727        Sales    Male\n",
      "4    Bob_5   22   51904        Sales    Male\n"
     ]
    }
   ],
   "source": [
    "print(df.head())"
   ]
  },
  {
   "cell_type": "markdown",
   "metadata": {},
   "source": [
    "### Describe the data, get descriptive statistics for all numerical column"
   ]
  },
  {
   "cell_type": "code",
   "execution_count": 7,
   "metadata": {},
   "outputs": [
    {
     "name": "stdout",
     "output_type": "stream",
     "text": [
      "             Age        Salary\n",
      "count  50.000000     50.000000\n",
      "mean   29.260000  63977.080000\n",
      "std     4.379032  15380.460814\n",
      "min    21.000000  41827.000000\n",
      "25%    25.250000  52290.250000\n",
      "50%    29.500000  62530.500000\n",
      "75%    33.000000  74350.500000\n",
      "max    38.000000  99214.000000\n"
     ]
    }
   ],
   "source": [
    "print(df.describe())"
   ]
  },
  {
   "cell_type": "markdown",
   "metadata": {},
   "source": [
    "### Find missing values in each column"
   ]
  },
  {
   "cell_type": "code",
   "execution_count": 8,
   "metadata": {},
   "outputs": [
    {
     "name": "stdout",
     "output_type": "stream",
     "text": [
      "Missing values in each column: \n",
      " Name          0\n",
      "Age           0\n",
      "Salary        0\n",
      "Department    0\n",
      "Gender        0\n",
      "dtype: int64\n"
     ]
    }
   ],
   "source": [
    "mv=df.isnull().sum()\n",
    "print(\"Missing values in each column: \\n\", mv)"
   ]
  },
  {
   "cell_type": "markdown",
   "metadata": {},
   "source": [
    "### Calculate the avarage of a column\n"
   ]
  },
  {
   "cell_type": "code",
   "execution_count": 10,
   "metadata": {},
   "outputs": [
    {
     "name": "stdout",
     "output_type": "stream",
     "text": [
      "Avarage of age: 29.26\n"
     ]
    }
   ],
   "source": [
    "avg=df['Age'].mean() \n",
    "print(f\"Avarage of age: {avg}\")"
   ]
  },
  {
   "cell_type": "markdown",
   "metadata": {},
   "source": [
    "### Count the unique values"
   ]
  },
  {
   "cell_type": "code",
   "execution_count": 11,
   "metadata": {},
   "outputs": [
    {
     "name": "stdout",
     "output_type": "stream",
     "text": [
      "Unique values: 18\n"
     ]
    }
   ],
   "source": [
    "uv=df ['Age'].nunique()\n",
    "print(f'Unique values: {uv}')"
   ]
  },
  {
   "cell_type": "markdown",
   "metadata": {},
   "source": [
    "### Filter Rows based on a condition "
   ]
  },
  {
   "cell_type": "code",
   "execution_count": 12,
   "metadata": {},
   "outputs": [
    {
     "name": "stdout",
     "output_type": "stream",
     "text": [
      "          Name  Age  Salary   Department  Gender\n",
      "1      Grace_2   29   74495  Engineering  Female\n",
      "5       Jack_6   27   93248  Engineering    Male\n",
      "6      Alice_7   33   71365  Engineering  Female\n",
      "16    Alice_17   28   65973  Engineering  Female\n",
      "17    Grace_18   29   71882  Engineering  Female\n",
      "19    Grace_20   31   77906  Engineering  Female\n",
      "21    Grace_22   33   78901  Engineering  Female\n",
      "23     Jack_24   31   96087  Engineering    Male\n",
      "24    Grace_25   24   78355  Engineering  Female\n",
      "25    Alice_26   31   66561  Engineering  Female\n",
      "28    Grace_29   30   73605  Engineering  Female\n",
      "29     Jack_30   34   98073  Engineering    Male\n",
      "34    Grace_35   30   71157  Engineering  Female\n",
      "35  Charlie_36   36   78767  Engineering    Male\n",
      "45    Alice_46   34   65506  Engineering  Female\n",
      "46  Charlie_47   33   78470  Engineering    Male\n",
      "47  Charlie_48   31   83184  Engineering    Male\n"
     ]
    }
   ],
   "source": [
    "eng_emp=df[df['Department'] == 'Engineering']\n",
    "print(eng_emp)"
   ]
  },
  {
   "cell_type": "markdown",
   "metadata": {},
   "source": [
    "### Find the max. for example, get the employee with highest salary"
   ]
  },
  {
   "cell_type": "code",
   "execution_count": 13,
   "metadata": {},
   "outputs": [
    {
     "name": "stdout",
     "output_type": "stream",
     "text": [
      "Highest paid employee: \n",
      "       Name  Age  Salary Department  Gender\n",
      "26  Eve_27   35   99214      Sales  Female\n"
     ]
    }
   ],
   "source": [
    "max_salary = df['Salary'].max()\n",
    "max_salary_emp = df [df ['Salary'] == max_salary]\n",
    "print(\"Highest paid employee: \\n\", max_salary_emp)"
   ]
  },
  {
   "cell_type": "markdown",
   "metadata": {},
   "source": [
    "### Count frequency of each value in a column"
   ]
  },
  {
   "cell_type": "code",
   "execution_count": 14,
   "metadata": {},
   "outputs": [
    {
     "name": "stdout",
     "output_type": "stream",
     "text": [
      "Number of employees in each department: \n",
      " Department\n",
      "Marketing      18\n",
      "Engineering    17\n",
      "Sales          15\n",
      "Name: count, dtype: int64\n"
     ]
    }
   ],
   "source": [
    "dep_count = df['Department'].value_counts()\n",
    "print(\"Number of employees in each department: \\n\",dep_count)"
   ]
  },
  {
   "cell_type": "markdown",
   "metadata": {},
   "source": [
    "### Sort data by column "
   ]
  },
  {
   "cell_type": "code",
   "execution_count": 16,
   "metadata": {},
   "outputs": [
    {
     "name": "stdout",
     "output_type": "stream",
     "text": [
      "Senior to junior employee:\n",
      "           Name  Age  Salary   Department  Gender\n",
      "42    Henry_43   38   69602        Sales    Male\n",
      "40    Henry_41   37   75289        Sales    Male\n",
      "35  Charlie_36   36   78767  Engineering    Male\n",
      "36    Henry_37   36   69721        Sales    Male\n",
      "26      Eve_27   35   99214        Sales  Female\n",
      "29     Jack_30   34   98073  Engineering    Male\n",
      "31    Henry_32   34   73051        Sales    Male\n",
      "0      Henry_1   34   75300        Sales    Male\n",
      "45    Alice_46   34   65506  Engineering  Female\n",
      "21    Grace_22   33   78901  Engineering  Female\n",
      "38    Henry_39   33   73917        Sales    Male\n",
      "6      Alice_7   33   71365  Engineering  Female\n",
      "33    Henry_34   33   67020        Sales    Male\n",
      "46  Charlie_47   33   78470  Engineering    Male\n",
      "22    Diana_23   33   44572    Marketing  Female\n",
      "48    Diana_49   32   46079    Marketing  Female\n",
      "43       vy_44   31   52959    Marketing  Female\n",
      "47  Charlie_48   31   83184  Engineering    Male\n",
      "23     Jack_24   31   96087  Engineering    Male\n",
      "25    Alice_26   31   66561  Engineering  Female\n",
      "19    Grace_20   31   77906  Engineering  Female\n",
      "18      Bob_19   30   45001        Sales    Male\n",
      "28    Grace_29   30   73605  Engineering  Female\n",
      "41    Diana_42   30   42404    Marketing  Female\n",
      "34    Grace_35   30   71157  Engineering  Female\n",
      "7         vy_8   29   55536    Marketing  Female\n",
      "17    Grace_18   29   71882  Engineering  Female\n",
      "1      Grace_2   29   74495  Engineering  Female\n",
      "39      Bob_40   28   53131        Sales    Male\n",
      "2      Diana_3   28   44957    Marketing  Female\n",
      "16    Alice_17   28   65973  Engineering  Female\n",
      "3        Bob_4   28   53727        Sales    Male\n",
      "32       vy_33   28   49757    Marketing  Female\n",
      "49    Diana_50   27   49326    Marketing  Female\n",
      "5       Jack_6   27   93248  Engineering    Male\n",
      "30    Diana_31   26   41827    Marketing  Female\n",
      "10       vy_11   26   52801    Marketing  Female\n",
      "44    Diana_45   25   43812    Marketing  Female\n",
      "20       vy_21   25   56189    Marketing  Female\n",
      "37    Frank_38   25   57529    Marketing    Male\n",
      "13    Frank_14   25   59555    Marketing    Male\n",
      "27    Frank_28   25   57507    Marketing    Male\n",
      "14    Diana_15   24   47521    Marketing  Female\n",
      "24    Grace_25   24   78355  Engineering  Female\n",
      "12      Bob_13   24   46515        Sales    Male\n",
      "9       Bob_10   23   53978        Sales    Male\n",
      "11    Frank_12   23   52120    Marketing    Male\n",
      "4        Bob_5   22   51904        Sales    Male\n",
      "8      Frank_9   21   59332    Marketing    Male\n",
      "15      Bob_16   21   54166        Sales    Male\n"
     ]
    }
   ],
   "source": [
    "sort=df.sort_values(by='Age', ascending=False)\n",
    "print(\"Senior to junior employee:\\n\", sort)"
   ]
  },
  {
   "cell_type": "markdown",
   "metadata": {},
   "source": [
    "### Add a new column based on condition, eg add Experience based on age "
   ]
  },
  {
   "cell_type": "code",
   "execution_count": 17,
   "metadata": {},
   "outputs": [
    {
     "name": "stdout",
     "output_type": "stream",
     "text": [
      "Data with Experience column:\n",
      "           Name  Age  Salary   Department  Gender Experience\n",
      "0      Henry_1   34   75300        Sales    Male     Senior\n",
      "1      Grace_2   29   74495  Engineering  Female     Junior\n",
      "2      Diana_3   28   44957    Marketing  Female     Junior\n",
      "3        Bob_4   28   53727        Sales    Male     Junior\n",
      "4        Bob_5   22   51904        Sales    Male     Junior\n",
      "5       Jack_6   27   93248  Engineering    Male     Junior\n",
      "6      Alice_7   33   71365  Engineering  Female     Senior\n",
      "7         vy_8   29   55536    Marketing  Female     Junior\n",
      "8      Frank_9   21   59332    Marketing    Male     Junior\n",
      "9       Bob_10   23   53978        Sales    Male     Junior\n",
      "10       vy_11   26   52801    Marketing  Female     Junior\n",
      "11    Frank_12   23   52120    Marketing    Male     Junior\n",
      "12      Bob_13   24   46515        Sales    Male     Junior\n",
      "13    Frank_14   25   59555    Marketing    Male     Junior\n",
      "14    Diana_15   24   47521    Marketing  Female     Junior\n",
      "15      Bob_16   21   54166        Sales    Male     Junior\n",
      "16    Alice_17   28   65973  Engineering  Female     Junior\n",
      "17    Grace_18   29   71882  Engineering  Female     Junior\n",
      "18      Bob_19   30   45001        Sales    Male     Senior\n",
      "19    Grace_20   31   77906  Engineering  Female     Senior\n",
      "20       vy_21   25   56189    Marketing  Female     Junior\n",
      "21    Grace_22   33   78901  Engineering  Female     Senior\n",
      "22    Diana_23   33   44572    Marketing  Female     Senior\n",
      "23     Jack_24   31   96087  Engineering    Male     Senior\n",
      "24    Grace_25   24   78355  Engineering  Female     Junior\n",
      "25    Alice_26   31   66561  Engineering  Female     Senior\n",
      "26      Eve_27   35   99214        Sales  Female     Senior\n",
      "27    Frank_28   25   57507    Marketing    Male     Junior\n",
      "28    Grace_29   30   73605  Engineering  Female     Senior\n",
      "29     Jack_30   34   98073  Engineering    Male     Senior\n",
      "30    Diana_31   26   41827    Marketing  Female     Junior\n",
      "31    Henry_32   34   73051        Sales    Male     Senior\n",
      "32       vy_33   28   49757    Marketing  Female     Junior\n",
      "33    Henry_34   33   67020        Sales    Male     Senior\n",
      "34    Grace_35   30   71157  Engineering  Female     Senior\n",
      "35  Charlie_36   36   78767  Engineering    Male     Senior\n",
      "36    Henry_37   36   69721        Sales    Male     Senior\n",
      "37    Frank_38   25   57529    Marketing    Male     Junior\n",
      "38    Henry_39   33   73917        Sales    Male     Senior\n",
      "39      Bob_40   28   53131        Sales    Male     Junior\n",
      "40    Henry_41   37   75289        Sales    Male     Senior\n",
      "41    Diana_42   30   42404    Marketing  Female     Senior\n",
      "42    Henry_43   38   69602        Sales    Male     Senior\n",
      "43       vy_44   31   52959    Marketing  Female     Senior\n",
      "44    Diana_45   25   43812    Marketing  Female     Junior\n",
      "45    Alice_46   34   65506  Engineering  Female     Senior\n",
      "46  Charlie_47   33   78470  Engineering    Male     Senior\n",
      "47  Charlie_48   31   83184  Engineering    Male     Senior\n",
      "48    Diana_49   32   46079    Marketing  Female     Senior\n",
      "49    Diana_50   27   49326    Marketing  Female     Junior\n"
     ]
    }
   ],
   "source": [
    "df['Experience'] = df['Age'].apply(lambda x: 'Senior' if x>=30 else 'Junior')\n",
    "print(\"Data with Experience column:\\n\",df)"
   ]
  },
  {
   "cell_type": "markdown",
   "metadata": {},
   "source": [
    "### Data Visualization "
   ]
  },
  {
   "cell_type": "markdown",
   "metadata": {},
   "source": [
    "#### Plotting a pie chart"
   ]
  },
  {
   "cell_type": "code",
   "execution_count": null,
   "metadata": {},
   "outputs": [
    {
     "data": {
      "image/png": "[encoded data removed]",
      "text/plain": [
       "<Figure size 800x600 with 1 Axes>"
      ]
     },
     "metadata": {},
     "output_type": "display_data"
    }
   ],
   "source": [
    "plt.figure(figsize=(8, 6)) \n",
    "plt.pie(dep_count, labels=dep_count.index, autopct='%1.1f%%', startangle=140)\n",
    "plt.title(\"Department\")\n",
    "plt.show()"
   ]
  },
  {
   "cell_type": "code",
   "execution_count": null,
   "metadata": {},
   "outputs": [],
   "source": []
  }
 ],
 "metadata": {
  "kernelspec": {
   "display_name": "usr",
   "language": "python",
   "name": "python3"
  },
  "language_info": {
   "codemirror_mode": {
    "name": "ipython",
    "version": 3
   },
   "file_extension": ".py",
   "mimetype": "text/x-python",
   "name": "python",
   "nbconvert_exporter": "python",
   "pygments_lexer": "ipython3",
   "version": "3.12.3"
  }
 },
 "nbformat": 4,
 "nbformat_minor": 2
}
